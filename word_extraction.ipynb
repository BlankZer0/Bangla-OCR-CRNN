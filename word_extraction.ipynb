{
 "metadata": {
  "language_info": {
   "codemirror_mode": {
    "name": "ipython",
    "version": 3
   },
   "file_extension": ".py",
   "mimetype": "text/x-python",
   "name": "python",
   "nbconvert_exporter": "python",
   "pygments_lexer": "ipython3",
   "version": "3.8.3-final"
  },
  "orig_nbformat": 2,
  "kernelspec": {
   "name": "python3",
   "display_name": "Python 3.8.3 64-bit ('base': conda)",
   "metadata": {
    "interpreter": {
     "hash": "a3b0da839896cba3a1914bb2f3e231862070be2373675245b241f65f29838d40"
    }
   }
  }
 },
 "nbformat": 4,
 "nbformat_minor": 2,
 "cells": [
  {
   "cell_type": "code",
   "execution_count": 1,
   "metadata": {},
   "outputs": [
    {
     "output_type": "stream",
     "name": "stdout",
     "text": [
      "93\n"
     ]
    }
   ],
   "source": [
    "import os\n",
    "import cv2\n",
    "import json\n",
    "\n",
    "converted_path = r\"BanglaWriting/converted\"\n",
    "raw_path = r\"BanglaWriting/raw\"\n",
    "extracted_path = r\"BanglaWriting/extracted\"\n",
    "\n",
    "try:\n",
    "    # Create  Directory  MyDirectory \n",
    "    os.mkdir(extracted_path)\n",
    "except FileExistsError:\n",
    "    ##print if directory already exists\n",
    "    print(\"Directory already exists.\")\n",
    "\n",
    "for filename in os.listdir(raw_path):\n",
    "    \n",
    "    if filename.endswith(\".json\"):\n",
    "\n",
    "        json_file = open(os.path.join(converted_path, filename), encoding='utf-8')\n",
    "        page = json.load(json_file)\n",
    "\n",
    "        # take the image file name from the json file\n",
    "        # image_path = page[\"imagePath\"]\n",
    "\n",
    "        # if not image_path[0].isdigit():\n",
    "        #     image_path = image_path.rsplit(\"\\\\\", 1)[1]\n",
    "\n",
    "        image_path = filename.replace(\".json\", \".jpg\")\n",
    "\n",
    "        image = cv2.imread(os.path.join(converted_path, image_path))\n",
    "\n",
    "        image_path = image_path.replace(\".jpg\", \"\")\n",
    "\n",
    "        # faulty_pages = [\"256_14_1/\", \"25_22_0/\"]\n",
    "        # if image_path in faulty_pages:\n",
    "        #     continue\n",
    "\n",
    "        try:\n",
    "            # Create  Directory  MyDirectory \n",
    "            os.mkdir(os.path.join(extracted_path, image_path))\n",
    "        except FileExistsError:\n",
    "            ##print if directory already exists\n",
    "            print(\"Directory already exists.\")\n",
    "\n",
    "        print(\"Extracting from \" + image_path + \" | words in page: \" + str(len(page[\"shapes\"])))\n",
    "\n",
    "        for i in range(len(page[\"shapes\"])):\n",
    "\n",
    "            label = page[\"shapes\"][i][\"label\"] # label of the word\n",
    "            # pixel coordinates of the bounding box\n",
    "            xmin, ymin = page[\"shapes\"][i][\"points\"][0]\n",
    "            xmax, ymax = page[\"shapes\"][i][\"points\"][1]\n",
    "\n",
    "            word = image[int(ymin):int(ymax), int(xmin):int(xmax)]\n",
    "\n",
    "            # cv2.imshow(\"example\", word)\n",
    "            # cv2.waitKey(0)\n",
    "            # cv2.destroyAllWindows()\n",
    "            \n",
    "            if word.shape[0] or word.shape[1]:\n",
    "                cv2.imwrite(os.path.join(extracted_path, image_path, str(i) + \"_\" + label + \".jpg\"), word)\n",
    "\n",
    "\n"
   ]
  },
  {
   "source": [
    "Show Image"
   ],
   "cell_type": "markdown",
   "metadata": {}
  },
  {
   "cell_type": "code",
   "execution_count": null,
   "metadata": {},
   "outputs": [],
   "source": [
    "import cv2\n",
    "import os\n",
    "\n",
    "converted_path = r\"BanglaWriting/converted\"\n",
    "raw_path = r\"BanglaWriting/raw\"\n",
    "extracted_path = r\"BanglaWriting/extracted\"\n",
    "\n",
    "image_path = \"256_14_1.jpg\"\n",
    "\n",
    "image = cv2.imread(os.path.join(converted_path, image_path))\n",
    "\n",
    "# cv2.imshow(\"example\", image)\n",
    "# cv2.waitKey(0)\n",
    "# cv2.destroyAllWindows()\n",
    "\n",
    "label = \"ব\" # label of the word\n",
    "# pixel coordinates of the bounding box\n",
    "xmin, ymin = 103, 2533\n",
    "xmax, ymax = 180, 2648\n",
    "\n",
    "word = image[int(ymin):int(ymax), int(xmin):int(xmax)]\n",
    "print(word.shape)\n",
    "\n",
    "cv2.imshow(label, word)\n",
    "cv2.waitKey(0)\n",
    "cv2.destroyAllWindows()"
   ]
  },
  {
   "cell_type": "code",
   "execution_count": null,
   "metadata": {},
   "outputs": [],
   "source": []
  }
 ]
}