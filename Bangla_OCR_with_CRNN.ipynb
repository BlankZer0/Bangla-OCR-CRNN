{
  "nbformat": 4,
  "nbformat_minor": 0,
  "metadata": {
    "colab": {
      "name": "Bangla OCR with CRNN",
      "provenance": [],
      "collapsed_sections": [],
      "toc_visible": true,
      "authorship_tag": "ABX9TyMNs5J+8m+JrV306ClvAaQO",
      "include_colab_link": true
    },
    "kernelspec": {
      "name": "python3",
      "display_name": "Python 3"
    },
    "accelerator": "GPU"
  },
  "cells": [
    {
      "cell_type": "markdown",
      "metadata": {
        "id": "view-in-github",
        "colab_type": "text"
      },
      "source": [
        "<a href=\"https://colab.research.google.com/github/BlankZer0/Bangla-OCR-CRNN/blob/main/Bangla_OCR_with_CRNN.ipynb\" target=\"_parent\"><img src=\"https://colab.research.google.com/assets/colab-badge.svg\" alt=\"Open In Colab\"/></a>"
      ]
    },
    {
      "cell_type": "code",
      "metadata": {
        "id": "1VaMa4lrBjwi",
        "colab": {
          "base_uri": "https://localhost:8080/"
        },
        "outputId": "52257db8-64a7-457d-8fd2-353d532dbce9"
      },
      "source": [
        "# Mount GDrive\n",
        "\n",
        "from google.colab import drive\n",
        "drive.mount('/content/drive')"
      ],
      "execution_count": 1,
      "outputs": [
        {
          "output_type": "stream",
          "text": [
            "Mounted at /content/drive\n"
          ],
          "name": "stdout"
        }
      ]
    },
    {
      "cell_type": "code",
      "metadata": {
        "id": "MT7O3B9-QYWL"
      },
      "source": [
        "!unzip -qq \"/content/drive/My Drive/Colab Notebooks/BanglaWriting Extracted.zip\""
      ],
      "execution_count": 2,
      "outputs": []
    },
    {
      "cell_type": "code",
      "metadata": {
        "id": "PsxgdVkdsMtA"
      },
      "source": [
        "# import libraries\n",
        "\n",
        "import os\n",
        "import glob\n",
        "from tqdm import tqdm\n",
        "import numpy as np\n",
        "from pprint import pprint\n",
        "\n",
        "import albumentations\n",
        "\n",
        "from PIL import Image\n",
        "from PIL import ImageFile\n",
        "\n",
        "import torch\n",
        "from torch import nn\n",
        "from torch.nn import functional as F\n",
        "from torch.utils.data import Dataset, DataLoader\n",
        "\n",
        "from sklearn import preprocessing\n",
        "from sklearn import model_selection\n",
        "from sklearn import metrics"
      ],
      "execution_count": 3,
      "outputs": []
    },
    {
      "cell_type": "markdown",
      "metadata": {
        "id": "VumGWo5kYq1K"
      },
      "source": [
        "### Config"
      ]
    },
    {
      "cell_type": "code",
      "metadata": {
        "id": "UKLM60pMYoW9"
      },
      "source": [
        "DATA_DIR = \"/content/BanglaWriting Extracted/converted/\"\n",
        "BATCH_SIZE = 1\n",
        "IMAGE_WIDTH = 200\n",
        "IMAGE_HEIGHT = 100\n",
        "NUM_WORKERS = 8\n",
        "EPOCHS = 30\n",
        "LEARNING_RATE = 3e-4\n",
        "DEVICE = \"cuda\"\n",
        "\n",
        "ImageFile.LOAD_TRUNCATED_IMAGES = True"
      ],
      "execution_count": 4,
      "outputs": []
    },
    {
      "cell_type": "markdown",
      "metadata": {
        "id": "Dt3UEcnmZFgm"
      },
      "source": [
        "### Dataset"
      ]
    },
    {
      "cell_type": "code",
      "metadata": {
        "colab": {
          "base_uri": "https://localhost:8080/"
        },
        "id": "jUNnCW3TvRm-",
        "outputId": "7465ed2d-a542-4a35-885b-b099c1dad190"
      },
      "source": [
        "image_files = glob.glob(os.path.join(DATA_DIR, \"*.jpg\"))\n",
        "targets_orig = [x.split(\"_\")[-1][:-4] for x in image_files]\n",
        "targets = [[c for c in x] for x in targets_orig]\n",
        "targets_flat = [c for clist in targets for c in clist]\n",
        "\n",
        "lbl_enc = preprocessing.LabelEncoder()\n",
        "lbl_enc.fit(targets_flat)\n",
        "targets_enc = [lbl_enc.transform(x) for x in targets]\n",
        "targets_enc = np.array(targets_enc)\n",
        "targets_enc += 1\n",
        "\n",
        "print(targets_enc)\n",
        "print()\n",
        "print(\"number of unique classes: \" + str(len(lbl_enc.classes_)))"
      ],
      "execution_count": 5,
      "outputs": [
        {
          "output_type": "stream",
          "text": [
            "[array([89, 94, 78, 91, 61, 85, 92, 59]) array([45])\n",
            " array([ 49,  89, 101,  81,  92,  59,  91,  85]) ... array([57])\n",
            " array([45]) array([81, 97, 85])]\n",
            "\n",
            "number of unique classes: 115\n"
          ],
          "name": "stdout"
        }
      ]
    },
    {
      "cell_type": "code",
      "metadata": {
        "id": "n9jmuYM0rUFI"
      },
      "source": [
        "# train-test split\n",
        "\n",
        "(train_imgs, test_imgs, train_targets, \n",
        " test_targets, _, test_targets_orig,) = model_selection.train_test_split(\n",
        "    image_files, targets_enc, targets_orig, test_size=0.1, random_state=42\n",
        "    )"
      ],
      "execution_count": 6,
      "outputs": []
    },
    {
      "cell_type": "code",
      "metadata": {
        "id": "8EBYJWDlZAFI"
      },
      "source": [
        "class ClassificationDataset(Dataset):\n",
        "    def __init__(self, image_paths, targets, resize=None):\n",
        "        # resize = (height, width)\n",
        "        self.image_paths = image_paths\n",
        "        self.targets = targets\n",
        "        self.resize = resize\n",
        "\n",
        "        mean = (0.485, 0.456, 0.406)\n",
        "        std = (0.229, 0.224, 0.225)\n",
        "        self.aug = albumentations.Compose(\n",
        "            [\n",
        "                albumentations.Normalize(\n",
        "                    mean, std, max_pixel_value=255.0, always_apply=True\n",
        "                )\n",
        "            ]\n",
        "        )\n",
        "\n",
        "    def __len__(self):\n",
        "        return len(self.image_paths)\n",
        "\n",
        "    def __getitem__(self, item):\n",
        "        image = Image.open(self.image_paths[item]).convert(\"RGB\")\n",
        "        targets = self.targets[item]\n",
        "\n",
        "        if self.resize is not None:\n",
        "            image = image.resize(\n",
        "                (self.resize[1], self.resize[0]), resample=Image.BILINEAR\n",
        "            )\n",
        "\n",
        "        image = np.array(image)\n",
        "        augmented = self.aug(image=image)\n",
        "        image = augmented[\"image\"]\n",
        "        image = np.transpose(image, (2, 0, 1)).astype(np.float32)\n",
        "\n",
        "        return {\n",
        "            \"images\": torch.tensor(image, dtype=torch.float),\n",
        "            \"targets\": torch.tensor(targets, dtype=torch.long),\n",
        "        }\n"
      ],
      "execution_count": 7,
      "outputs": []
    },
    {
      "cell_type": "markdown",
      "metadata": {
        "id": "QRzP4eviZKZ7"
      },
      "source": [
        "### Engine"
      ]
    },
    {
      "cell_type": "code",
      "metadata": {
        "id": "ubWs_uLKZQ__"
      },
      "source": [
        "def train_fn(model, data_loader, optimizer):\n",
        "    model.train()\n",
        "    fin_loss = 0\n",
        "    tk0 = tqdm(data_loader, total=len(data_loader))\n",
        "    for data in tk0:\n",
        "        for key, value in data.items():\n",
        "            data[key] = value.to(DEVICE)\n",
        "        optimizer.zero_grad()\n",
        "        _, loss = model(**data)\n",
        "        loss.backward()\n",
        "        optimizer.step()\n",
        "        fin_loss += loss.item()\n",
        "    return fin_loss / len(data_loader)\n",
        "\n",
        "\n",
        "def eval_fn(model, data_loader):\n",
        "    model.eval()\n",
        "    fin_loss = 0\n",
        "    fin_preds = []\n",
        "    with torch.no_grad():\n",
        "        tk0 = tqdm(data_loader, total=len(data_loader))\n",
        "        for data in tk0:\n",
        "            for key, value in data.items():\n",
        "                data[key] = value.to(DEVICE)\n",
        "            batch_preds, loss = model(**data)\n",
        "            fin_loss += loss.item()\n",
        "            fin_preds.append(batch_preds)\n",
        "        return fin_preds, fin_loss / len(data_loader)\n"
      ],
      "execution_count": 8,
      "outputs": []
    },
    {
      "cell_type": "markdown",
      "metadata": {
        "id": "ucPh7lkjZVpm"
      },
      "source": [
        "### Model"
      ]
    },
    {
      "cell_type": "code",
      "metadata": {
        "id": "k778FIivZniO"
      },
      "source": [
        "class OCRModel(nn.Module):\n",
        "    def __init__(self, num_chars):\n",
        "        super(OCRModel, self).__init__()\n",
        "        self.conv_1 = nn.Conv2d(3, 128, kernel_size=(3, 6), padding=(1, 1))\n",
        "        self.pool_1 = nn.MaxPool2d(kernel_size=(2, 2))\n",
        "        self.conv_2 = nn.Conv2d(128, 64, kernel_size=(3, 6), padding=(1, 1))\n",
        "        self.pool_2 = nn.MaxPool2d(kernel_size=(2, 2))\n",
        "        self.linear_1 = nn.Linear(1600, 64)\n",
        "        self.drop_1 = nn.Dropout(0.2)\n",
        "        self.lstm = nn.GRU(64, 32, bidirectional=True, num_layers=2, dropout=0.25, batch_first=True)\n",
        "        self.output = nn.Linear(64, num_chars + 1)\n",
        "\n",
        "    def forward(self, images, targets=None):\n",
        "        bs, channel, height, width = images.size()\n",
        "        x = F.relu(self.conv_1(images))\n",
        "        # print(x.size())\n",
        "        x = self.pool_1(x)\n",
        "        # print(x.size())\n",
        "        x = F.relu(self.conv_2(x))\n",
        "        # print(x.size())\n",
        "        x = self.pool_2(x)\n",
        "        # print(x.size())\n",
        "        x = x.permute(0, 3, 1, 2)\n",
        "        # print(x.size())\n",
        "        x = x.view(bs, x.size(1), -1)\n",
        "        # print(x.size())\n",
        "        x = F.relu(self.linear_1(x))\n",
        "        # print(x.size())\n",
        "        x = self.drop_1(x)\n",
        "        # print(x.size())\n",
        "        x, _ = self.lstm(x)\n",
        "        # print(x.size())\n",
        "        x = self.output(x)\n",
        "        # print(x.size())\n",
        "        x = x.permute(1, 0, 2)\n",
        "        # print(x.size())\n",
        "\n",
        "        if targets is not None:\n",
        "            log_probs = F.log_softmax(x, 2)\n",
        "            # print(log_probs.size())\n",
        "            input_lengths = torch.full(\n",
        "                size=(bs,), fill_value=log_probs.size(0), dtype=torch.int32\n",
        "            )\n",
        "            # print(input_lengths)\n",
        "            target_lengths = torch.full(\n",
        "                size=(bs,), fill_value=targets.size(1), dtype=torch.int32\n",
        "            )\n",
        "            # print(target_lengths)\n",
        "            loss = nn.CTCLoss(blank=0)(\n",
        "                log_probs, targets, input_lengths, target_lengths\n",
        "            )\n",
        "            return x, loss\n",
        "\n",
        "        return x, None\n"
      ],
      "execution_count": 9,
      "outputs": []
    },
    {
      "cell_type": "code",
      "metadata": {
        "id": "1WNxX8oZtl7d"
      },
      "source": [
        "model = OCRModel(len(lbl_enc.classes_))\n",
        "img = torch.rand((16, 3, IMAGE_HEIGHT, IMAGE_WIDTH))\n",
        "target = torch.randint(1, len(lbl_enc.classes_), (16, 10))\n",
        "x, loss = model(img, target)"
      ],
      "execution_count": 10,
      "outputs": []
    },
    {
      "cell_type": "markdown",
      "metadata": {
        "id": "_v9pR1OpZvvZ"
      },
      "source": [
        "### Train"
      ]
    },
    {
      "cell_type": "code",
      "metadata": {
        "id": "P1vwF4TsZqft"
      },
      "source": [
        "def remove_duplicates(x):\n",
        "    if len(x) < 2:\n",
        "        return x\n",
        "    fin = \"\"\n",
        "    for j in x:\n",
        "        if fin == \"\":\n",
        "            fin = j\n",
        "        else:\n",
        "            if j == fin[-1]:\n",
        "                continue\n",
        "            else:\n",
        "                fin = fin + j\n",
        "    return fin\n",
        "\n",
        "\n",
        "def decode_predictions(preds, encoder):\n",
        "    preds = preds.permute(1, 0, 2)\n",
        "    preds = torch.softmax(preds, 2)\n",
        "    preds = torch.argmax(preds, 2)\n",
        "    preds = preds.detach().cpu().numpy()\n",
        "    cap_preds = []\n",
        "    for j in range(preds.shape[0]):\n",
        "        temp = []\n",
        "        for k in preds[j, :]:\n",
        "            k = k - 1\n",
        "            if k == -1:\n",
        "                temp.append(\"§\")\n",
        "            else:\n",
        "                p = encoder.inverse_transform([k])[0]\n",
        "                temp.append(p)\n",
        "        tp = \"\".join(temp).replace(\"§\", \"\")\n",
        "        cap_preds.append(remove_duplicates(tp))\n",
        "    return cap_preds\n",
        "\n",
        "\n",
        "def run_training():\n",
        "\n",
        "    train_dataset = ClassificationDataset(\n",
        "        image_paths=train_imgs,\n",
        "        targets=train_targets,\n",
        "        resize=(IMAGE_HEIGHT, IMAGE_WIDTH),\n",
        "    )\n",
        "    train_loader = DataLoader(\n",
        "        train_dataset,\n",
        "        batch_size=BATCH_SIZE,\n",
        "        num_workers=NUM_WORKERS,\n",
        "        shuffle=True,\n",
        "    )\n",
        "    test_dataset = ClassificationDataset(\n",
        "        image_paths=test_imgs,\n",
        "        targets=test_targets,\n",
        "        resize=(IMAGE_HEIGHT, IMAGE_WIDTH),\n",
        "    )\n",
        "    test_loader = DataLoader(\n",
        "        test_dataset,\n",
        "        batch_size=BATCH_SIZE,\n",
        "        num_workers=NUM_WORKERS,\n",
        "        shuffle=False,\n",
        "    )\n",
        "\n",
        "    model = OCRModel(num_chars=len(lbl_enc.classes_))\n",
        "    model.to(DEVICE)\n",
        "\n",
        "    optimizer = torch.optim.Adam(model.parameters(), lr=LEARNING_RATE)\n",
        "    scheduler = torch.optim.lr_scheduler.ReduceLROnPlateau(\n",
        "        optimizer, factor=0.8, patience=5, verbose=True\n",
        "    )\n",
        "    for epoch in range(EPOCHS):\n",
        "        train_loss = train_fn(model, train_loader, optimizer)\n",
        "        valid_preds, test_loss = eval_fn(model, test_loader)\n",
        "        valid_captcha_preds = []\n",
        "        for vp in valid_preds:\n",
        "            current_preds = decode_predictions(vp, lbl_enc)\n",
        "            valid_captcha_preds.extend(current_preds)\n",
        "        combined = list(zip(test_targets_orig, valid_captcha_preds))\n",
        "\n",
        "        pprint(combined[:10])\n",
        "        test_dup_rem = [remove_duplicates(c) for c in test_targets_orig]\n",
        "        accuracy = metrics.accuracy_score(test_dup_rem, valid_captcha_preds)\n",
        "        \n",
        "        print(\n",
        "            f\"Epoch={epoch}, Train Loss={train_loss}, Test Loss={test_loss} Accuracy={accuracy}\"\n",
        "        )\n",
        "        scheduler.step(test_loss)\n"
      ],
      "execution_count": 11,
      "outputs": []
    },
    {
      "cell_type": "code",
      "metadata": {
        "id": "0JrnFZZ5udYh",
        "colab": {
          "base_uri": "https://localhost:8080/"
        },
        "outputId": "a7cdde75-5ff2-4ff8-b7ea-f8bc302a52c5"
      },
      "source": [
        "run_training()"
      ],
      "execution_count": 12,
      "outputs": [
        {
          "output_type": "stream",
          "text": [
            "100%|██████████| 18418/18418 [06:10<00:00, 49.65it/s]\n",
            "100%|██████████| 2047/2047 [00:17<00:00, 113.93it/s]\n",
            "  0%|          | 0/18418 [00:00<?, ?it/s]"
          ],
          "name": "stderr"
        },
        {
          "output_type": "stream",
          "text": [
            "[('প্রত্যেক', 'ক'),\n",
            " ('বলছ', 'এ'),\n",
            " ('বয়সের', 'প'),\n",
            " (',', '।'),\n",
            " ('হয়', 'হ'),\n",
            " ('পড়েন', 'ক'),\n",
            " ('ভাষার', 'ক'),\n",
            " ('হয়', 'হ'),\n",
            " ('নিজেদের', 'প'),\n",
            " ('মুল', 'এ')]\n",
            "Epoch=0, Train Loss=3.742495104861461, Test Loss=3.1631727629847566 Accuracy=0.07816316560820713\n"
          ],
          "name": "stdout"
        },
        {
          "output_type": "stream",
          "text": [
            "100%|██████████| 18418/18418 [06:14<00:00, 49.17it/s]\n",
            "100%|██████████| 2047/2047 [00:17<00:00, 114.19it/s]\n",
            "  0%|          | 0/18418 [00:00<?, ?it/s]"
          ],
          "name": "stderr"
        },
        {
          "output_type": "stream",
          "text": [
            "[('প্রত্যেক', 'এ'),\n",
            " ('বলছ', 'ক'),\n",
            " ('বয়সের', 'আ'),\n",
            " (',', ','),\n",
            " ('হয়', 'হ'),\n",
            " ('পড়েন', 'আ'),\n",
            " ('ভাষার', 'আ'),\n",
            " ('হয়', 'ক'),\n",
            " ('নিজেদের', 'ব'),\n",
            " ('মুল', 'ক')]\n",
            "Epoch=1, Train Loss=3.0376313227390734, Test Loss=2.8654288511685064 Accuracy=0.09574987787005373\n"
          ],
          "name": "stdout"
        },
        {
          "output_type": "stream",
          "text": [
            "100%|██████████| 18418/18418 [06:16<00:00, 48.89it/s]\n",
            "100%|██████████| 2047/2047 [00:17<00:00, 116.25it/s]\n",
            "  0%|          | 0/18418 [00:00<?, ?it/s]"
          ],
          "name": "stderr"
        },
        {
          "output_type": "stream",
          "text": [
            "[('প্রত্যেক', 'সে'),\n",
            " ('বলছ', 'ক'),\n",
            " ('বয়সের', 'কের'),\n",
            " (',', ','),\n",
            " ('হয়', 'হ'),\n",
            " ('পড়েন', 'নরে'),\n",
            " ('ভাষার', 'আর'),\n",
            " ('হয়', 'হ'),\n",
            " ('নিজেদের', 'পের'),\n",
            " ('মুল', 'সে')]\n",
            "Epoch=2, Train Loss=2.7773310674193836, Test Loss=2.6178143108532046 Accuracy=0.10503175378602833\n"
          ],
          "name": "stdout"
        },
        {
          "output_type": "stream",
          "text": [
            "100%|██████████| 18418/18418 [06:12<00:00, 49.45it/s]\n",
            "100%|██████████| 2047/2047 [00:17<00:00, 113.88it/s]\n",
            "  0%|          | 0/18418 [00:00<?, ?it/s]"
          ],
          "name": "stderr"
        },
        {
          "output_type": "stream",
          "text": [
            "[('প্রত্যেক', 'সত'),\n",
            " ('বলছ', 'ক'),\n",
            " ('বয়সের', 'কসর'),\n",
            " (',', ','),\n",
            " ('হয়', 'হ'),\n",
            " ('পড়েন', 'পর'),\n",
            " ('ভাষার', 'আমার'),\n",
            " ('হয়', 'হ'),\n",
            " ('নিজেদের', 'সতেকের'),\n",
            " ('মুল', 'হল')]\n",
            "Epoch=3, Train Loss=2.45452326817689, Test Loss=2.2161619276195967 Accuracy=0.1446018563751832\n"
          ],
          "name": "stdout"
        },
        {
          "output_type": "stream",
          "text": [
            "100%|██████████| 18418/18418 [06:13<00:00, 49.31it/s]\n",
            "100%|██████████| 2047/2047 [00:17<00:00, 115.97it/s]\n",
            "  0%|          | 0/18418 [00:00<?, ?it/s]"
          ],
          "name": "stderr"
        },
        {
          "output_type": "stream",
          "text": [
            "[('প্রত্যেক', 'সতে'),\n",
            " ('বলছ', 'ক'),\n",
            " ('বয়সের', 'কয়খের'),\n",
            " (',', ','),\n",
            " ('হয়', 'হয়'),\n",
            " ('পড়েন', 'দেন'),\n",
            " ('ভাষার', 'আমার'),\n",
            " ('হয়', 'হয়'),\n",
            " ('নিজেদের', 'হতেকের'),\n",
            " ('মুল', 'হল')]\n",
            "Epoch=4, Train Loss=2.166253734304259, Test Loss=1.985967705594071 Accuracy=0.1695163654127992\n"
          ],
          "name": "stdout"
        },
        {
          "output_type": "stream",
          "text": [
            "100%|██████████| 18418/18418 [06:22<00:00, 48.21it/s]\n",
            "100%|██████████| 2047/2047 [00:18<00:00, 108.46it/s]\n",
            "  0%|          | 0/18418 [00:00<?, ?it/s]"
          ],
          "name": "stderr"
        },
        {
          "output_type": "stream",
          "text": [
            "[('প্রত্যেক', 'সতে'),\n",
            " ('বলছ', 'কলন'),\n",
            " ('বয়সের', 'বয়সের'),\n",
            " (',', ','),\n",
            " ('হয়', 'হয়'),\n",
            " ('পড়েন', 'দয়েন'),\n",
            " ('ভাষার', 'তামার'),\n",
            " ('হয়', 'হয়'),\n",
            " ('নিজেদের', 'িনেকের'),\n",
            " ('মুল', 'হল')]\n",
            "Epoch=5, Train Loss=1.963357761251535, Test Loss=1.8090614897422366 Accuracy=0.1968734733756717\n"
          ],
          "name": "stdout"
        },
        {
          "output_type": "stream",
          "text": [
            "100%|██████████| 18418/18418 [06:22<00:00, 48.19it/s]\n",
            "100%|██████████| 2047/2047 [00:17<00:00, 115.81it/s]\n",
            "  0%|          | 0/18418 [00:00<?, ?it/s]"
          ],
          "name": "stderr"
        },
        {
          "output_type": "stream",
          "text": [
            "[('প্রত্যেক', 'সয়ে'),\n",
            " ('বলছ', 'কলন'),\n",
            " ('বয়সের', 'বয়সের'),\n",
            " (',', ','),\n",
            " ('হয়', 'হয়'),\n",
            " ('পড়েন', 'পয়েন'),\n",
            " ('ভাষার', 'তামার'),\n",
            " ('হয়', 'হয়'),\n",
            " ('নিজেদের', 'িতেকের'),\n",
            " ('মুল', 'সুন')]\n",
            "Epoch=6, Train Loss=1.7894573214226532, Test Loss=1.6632613720673508 Accuracy=0.2256961406936981\n"
          ],
          "name": "stdout"
        },
        {
          "output_type": "stream",
          "text": [
            "100%|██████████| 18418/18418 [06:16<00:00, 48.90it/s]\n",
            "100%|██████████| 2047/2047 [00:17<00:00, 116.10it/s]\n",
            "  0%|          | 0/18418 [00:00<?, ?it/s]"
          ],
          "name": "stderr"
        },
        {
          "output_type": "stream",
          "text": [
            "[('প্রত্যেক', 'সয়ে'),\n",
            " ('বলছ', 'এল'),\n",
            " ('বয়সের', 'বয়সের'),\n",
            " (',', ','),\n",
            " ('হয়', 'হয়'),\n",
            " ('পড়েন', 'পয়েন'),\n",
            " ('ভাষার', 'তামার'),\n",
            " ('হয়', 'হয়'),\n",
            " ('নিজেদের', 'নিনেকের'),\n",
            " ('মুল', 'সল')]\n",
            "Epoch=7, Train Loss=1.6488516861431277, Test Loss=1.5780595854774635 Accuracy=0.23839765510503175\n"
          ],
          "name": "stdout"
        },
        {
          "output_type": "stream",
          "text": [
            "100%|██████████| 18418/18418 [06:20<00:00, 48.42it/s]\n",
            "100%|██████████| 2047/2047 [00:18<00:00, 113.64it/s]\n",
            "  0%|          | 0/18418 [00:00<?, ?it/s]"
          ],
          "name": "stderr"
        },
        {
          "output_type": "stream",
          "text": [
            "[('প্রত্যেক', 'সয়ো'),\n",
            " ('বলছ', 'কনয'),\n",
            " ('বয়সের', 'বয়সের'),\n",
            " (',', ','),\n",
            " ('হয়', 'হয়'),\n",
            " ('পড়েন', 'দয়েন'),\n",
            " ('ভাষার', 'তামার'),\n",
            " ('হয়', 'হয়'),\n",
            " ('নিজেদের', 'নিনেকের'),\n",
            " ('মুল', 'সুন')]\n",
            "Epoch=8, Train Loss=1.5376965445325261, Test Loss=1.4411787321444367 Accuracy=0.2804103566194431\n"
          ],
          "name": "stdout"
        },
        {
          "output_type": "stream",
          "text": [
            "100%|██████████| 18418/18418 [06:19<00:00, 48.56it/s]\n",
            "100%|██████████| 2047/2047 [00:18<00:00, 113.62it/s]\n",
            "  0%|          | 0/18418 [00:00<?, ?it/s]"
          ],
          "name": "stderr"
        },
        {
          "output_type": "stream",
          "text": [
            "[('প্রত্যেক', 'পয়ে'),\n",
            " ('বলছ', 'বল'),\n",
            " ('বয়সের', 'বয়সের'),\n",
            " (',', ','),\n",
            " ('হয়', 'হয়'),\n",
            " ('পড়েন', 'দয়েন'),\n",
            " ('ভাষার', 'তামার'),\n",
            " ('হয়', 'হয়'),\n",
            " ('নিজেদের', 'িলেকের'),\n",
            " ('মুল', 'মুন')]\n",
            "Epoch=9, Train Loss=1.455620421665157, Test Loss=1.42578380778259 Accuracy=0.2882266731802638\n"
          ],
          "name": "stdout"
        },
        {
          "output_type": "stream",
          "text": [
            "100%|██████████| 18418/18418 [06:28<00:00, 47.39it/s]\n",
            "100%|██████████| 2047/2047 [00:18<00:00, 108.16it/s]\n",
            "  0%|          | 0/18418 [00:00<?, ?it/s]"
          ],
          "name": "stderr"
        },
        {
          "output_type": "stream",
          "text": [
            "[('প্রত্যেক', 'পড়ে'),\n",
            " ('বলছ', 'বলই'),\n",
            " ('বয়সের', 'বয়সের'),\n",
            " (',', ','),\n",
            " ('হয়', 'হয়'),\n",
            " ('পড়েন', 'পড়েন'),\n",
            " ('ভাষার', 'তামার'),\n",
            " ('হয়', 'হয়'),\n",
            " ('নিজেদের', 'নতেকের'),\n",
            " ('মুল', 'সুন')]\n",
            "Epoch=10, Train Loss=1.3839109969150443, Test Loss=1.3683795413086768 Accuracy=0.30532486565705913\n"
          ],
          "name": "stdout"
        },
        {
          "output_type": "stream",
          "text": [
            "100%|██████████| 18418/18418 [06:30<00:00, 47.15it/s]\n",
            "100%|██████████| 2047/2047 [00:18<00:00, 110.54it/s]\n",
            "  0%|          | 0/18418 [00:00<?, ?it/s]"
          ],
          "name": "stderr"
        },
        {
          "output_type": "stream",
          "text": [
            "[('প্রত্যেক', 'পড়োখ'),\n",
            " ('বলছ', 'বল্হ'),\n",
            " ('বয়সের', 'বয়সের'),\n",
            " (',', ','),\n",
            " ('হয়', 'হয়'),\n",
            " ('পড়েন', 'পড়েন'),\n",
            " ('ভাষার', 'তাখার'),\n",
            " ('হয়', 'হয়'),\n",
            " ('নিজেদের', 'নিতেদের'),\n",
            " ('মুল', 'মুন')]\n",
            "Epoch=11, Train Loss=1.3293671526404998, Test Loss=1.2831640635413706 Accuracy=0.3277967757694187\n"
          ],
          "name": "stdout"
        },
        {
          "output_type": "stream",
          "text": [
            "100%|██████████| 18418/18418 [06:26<00:00, 47.60it/s]\n",
            "100%|██████████| 2047/2047 [00:18<00:00, 110.82it/s]\n",
            "  0%|          | 0/18418 [00:00<?, ?it/s]"
          ],
          "name": "stderr"
        },
        {
          "output_type": "stream",
          "text": [
            "[('প্রত্যেক', 'পড়ো'),\n",
            " ('বলছ', 'এলছ'),\n",
            " ('বয়সের', 'বয়সের'),\n",
            " (',', ','),\n",
            " ('হয়', 'হয়'),\n",
            " ('পড়েন', 'পড়েন'),\n",
            " ('ভাষার', 'ভামার'),\n",
            " ('হয়', 'হয়'),\n",
            " ('নিজেদের', 'িদেদের'),\n",
            " ('মুল', 'সুন')]\n",
            "Epoch=12, Train Loss=1.2800789083065784, Test Loss=1.2404287703109849 Accuracy=0.3419638495359062\n"
          ],
          "name": "stdout"
        },
        {
          "output_type": "stream",
          "text": [
            "100%|██████████| 18418/18418 [06:20<00:00, 48.39it/s]\n",
            "100%|██████████| 2047/2047 [00:18<00:00, 113.32it/s]\n",
            "  0%|          | 0/18418 [00:00<?, ?it/s]"
          ],
          "name": "stderr"
        },
        {
          "output_type": "stream",
          "text": [
            "[('প্রত্যেক', 'পজে'),\n",
            " ('বলছ', 'এল'),\n",
            " ('বয়সের', 'বয়সের'),\n",
            " (',', ','),\n",
            " ('হয়', 'হয়'),\n",
            " ('পড়েন', 'পড়েন'),\n",
            " ('ভাষার', 'তাখার'),\n",
            " ('হয়', 'হয়'),\n",
            " ('নিজেদের', 'য়িদেদের'),\n",
            " ('মুল', 'মুন')]\n",
            "Epoch=13, Train Loss=1.240614474010309, Test Loss=1.2351978921616276 Accuracy=0.336590131900342\n"
          ],
          "name": "stdout"
        },
        {
          "output_type": "stream",
          "text": [
            "100%|██████████| 18418/18418 [06:20<00:00, 48.40it/s]\n",
            "100%|██████████| 2047/2047 [00:17<00:00, 114.80it/s]\n",
            "  0%|          | 0/18418 [00:00<?, ?it/s]"
          ],
          "name": "stderr"
        },
        {
          "output_type": "stream",
          "text": [
            "[('প্রত্যেক', 'সড়েক'),\n",
            " ('বলছ', 'এলছ'),\n",
            " ('বয়সের', 'বয়সের'),\n",
            " (',', ','),\n",
            " ('হয়', 'হয়'),\n",
            " ('পড়েন', 'পড়েন'),\n",
            " ('ভাষার', 'ভাখার'),\n",
            " ('হয়', 'হয়'),\n",
            " ('নিজেদের', 'নিদেদের'),\n",
            " ('মুল', 'মুন')]\n",
            "Epoch=14, Train Loss=1.2005854414506945, Test Loss=1.2065355132495903 Accuracy=0.3522227650219834\n"
          ],
          "name": "stdout"
        },
        {
          "output_type": "stream",
          "text": [
            "100%|██████████| 18418/18418 [06:19<00:00, 48.48it/s]\n",
            "100%|██████████| 2047/2047 [00:18<00:00, 112.47it/s]\n",
            "  0%|          | 0/18418 [00:00<?, ?it/s]"
          ],
          "name": "stderr"
        },
        {
          "output_type": "stream",
          "text": [
            "[('প্রত্যেক', 'সড়েো'),\n",
            " ('বলছ', 'বল্ছ'),\n",
            " ('বয়সের', 'বয়সের'),\n",
            " (',', ','),\n",
            " ('হয়', 'হয়'),\n",
            " ('পড়েন', 'পড়েন'),\n",
            " ('ভাষার', 'তামার'),\n",
            " ('হয়', 'হয়'),\n",
            " ('নিজেদের', 'লিজেদের'),\n",
            " ('মুল', 'মুল')]\n",
            "Epoch=15, Train Loss=1.1738421946239004, Test Loss=1.1999322434098032 Accuracy=0.3512457254518808\n"
          ],
          "name": "stdout"
        },
        {
          "output_type": "stream",
          "text": [
            "100%|██████████| 18418/18418 [06:18<00:00, 48.63it/s]\n",
            "100%|██████████| 2047/2047 [00:18<00:00, 112.18it/s]\n",
            "  0%|          | 0/18418 [00:00<?, ?it/s]"
          ],
          "name": "stderr"
        },
        {
          "output_type": "stream",
          "text": [
            "[('প্রত্যেক', 'পড়ে'),\n",
            " ('বলছ', 'বলই'),\n",
            " ('বয়সের', 'বয়সের'),\n",
            " (',', ','),\n",
            " ('হয়', 'হয়'),\n",
            " ('পড়েন', 'পড়েন'),\n",
            " ('ভাষার', 'তাসার'),\n",
            " ('হয়', 'হয়'),\n",
            " ('নিজেদের', 'লিদেদের'),\n",
            " ('মুল', 'মন')]\n",
            "Epoch=16, Train Loss=1.1476673190475957, Test Loss=1.1857868104675602 Accuracy=0.35613092330239376\n"
          ],
          "name": "stdout"
        },
        {
          "output_type": "stream",
          "text": [
            "100%|██████████| 18418/18418 [06:23<00:00, 48.02it/s]\n",
            "100%|██████████| 2047/2047 [00:18<00:00, 112.95it/s]\n",
            "  0%|          | 0/18418 [00:00<?, ?it/s]"
          ],
          "name": "stderr"
        },
        {
          "output_type": "stream",
          "text": [
            "[('প্রত্যেক', 'পড়ো'),\n",
            " ('বলছ', 'বলই'),\n",
            " ('বয়সের', 'বয়সের'),\n",
            " (',', ','),\n",
            " ('হয়', 'হয়'),\n",
            " ('পড়েন', 'পড়েন'),\n",
            " ('ভাষার', 'ভাষার'),\n",
            " ('হয়', 'হয়'),\n",
            " ('নিজেদের', 'য়িতেকের'),\n",
            " ('মুল', 'মুন')]\n",
            "Epoch=17, Train Loss=1.1246704081151173, Test Loss=1.142661780007816 Accuracy=0.36492427943331707\n"
          ],
          "name": "stdout"
        },
        {
          "output_type": "stream",
          "text": [
            "100%|██████████| 18418/18418 [06:20<00:00, 48.36it/s]\n",
            "100%|██████████| 2047/2047 [00:18<00:00, 113.36it/s]\n",
            "  0%|          | 0/18418 [00:00<?, ?it/s]"
          ],
          "name": "stderr"
        },
        {
          "output_type": "stream",
          "text": [
            "[('প্রত্যেক', 'পড়েো'),\n",
            " ('বলছ', 'বল'),\n",
            " ('বয়সের', 'বয়সের'),\n",
            " (',', ','),\n",
            " ('হয়', 'হয়'),\n",
            " ('পড়েন', 'পড়েন'),\n",
            " ('ভাষার', 'ভাখার'),\n",
            " ('হয়', 'হয়'),\n",
            " ('নিজেদের', 'য়িজেদের'),\n",
            " ('মুল', 'মুন')]\n",
            "Epoch=18, Train Loss=1.099388851817423, Test Loss=1.1358321789877546 Accuracy=0.3795798729848559\n"
          ],
          "name": "stdout"
        },
        {
          "output_type": "stream",
          "text": [
            "100%|██████████| 18418/18418 [06:19<00:00, 48.52it/s]\n",
            "100%|██████████| 2047/2047 [00:18<00:00, 110.54it/s]\n",
            "  0%|          | 0/18418 [00:00<?, ?it/s]"
          ],
          "name": "stderr"
        },
        {
          "output_type": "stream",
          "text": [
            "[('প্রত্যেক', 'স্ড়ে'),\n",
            " ('বলছ', 'বলই'),\n",
            " ('বয়সের', 'বয়সের'),\n",
            " (',', ','),\n",
            " ('হয়', 'হয়'),\n",
            " ('পড়েন', 'পড়েন'),\n",
            " ('ভাষার', 'ভাষার'),\n",
            " ('হয়', 'হয়'),\n",
            " ('নিজেদের', 'য়িজেদের'),\n",
            " ('মুল', 'মুন')]\n",
            "Epoch=19, Train Loss=1.0745008823579327, Test Loss=1.1195791074945276 Accuracy=0.39081582804103565\n"
          ],
          "name": "stdout"
        },
        {
          "output_type": "stream",
          "text": [
            "100%|██████████| 18418/18418 [06:19<00:00, 48.49it/s]\n",
            "100%|██████████| 2047/2047 [00:18<00:00, 113.38it/s]\n",
            "  0%|          | 0/18418 [00:00<?, ?it/s]"
          ],
          "name": "stderr"
        },
        {
          "output_type": "stream",
          "text": [
            "[('প্রত্যেক', 'এ্জেক'),\n",
            " ('বলছ', 'বল'),\n",
            " ('বয়সের', 'বয়সের'),\n",
            " (',', ','),\n",
            " ('হয়', 'হয়'),\n",
            " ('পড়েন', 'পড়েন'),\n",
            " ('ভাষার', 'ভাখার'),\n",
            " ('হয়', 'হয়'),\n",
            " ('নিজেদের', 'লিজেকের'),\n",
            " ('মুল', 'মুন')]\n",
            "Epoch=20, Train Loss=1.0564828647767306, Test Loss=1.132181864571346 Accuracy=0.37322911577918905\n"
          ],
          "name": "stdout"
        },
        {
          "output_type": "stream",
          "text": [
            "100%|██████████| 18418/18418 [06:19<00:00, 48.57it/s]\n",
            "100%|██████████| 2047/2047 [00:18<00:00, 112.79it/s]\n",
            "  0%|          | 0/18418 [00:00<?, ?it/s]"
          ],
          "name": "stderr"
        },
        {
          "output_type": "stream",
          "text": [
            "[('প্রত্যেক', 'পড়েকে'),\n",
            " ('বলছ', 'বল'),\n",
            " ('বয়সের', 'বয়সের'),\n",
            " (',', ','),\n",
            " ('হয়', 'হয়'),\n",
            " ('পড়েন', 'সড়েন'),\n",
            " ('ভাষার', 'ভাষার'),\n",
            " ('হয়', 'হয়'),\n",
            " ('নিজেদের', 'রিজেদের'),\n",
            " ('মুল', 'মুন')]\n",
            "Epoch=21, Train Loss=1.0406780027204314, Test Loss=1.1567621041804395 Accuracy=0.3751831949193942\n"
          ],
          "name": "stdout"
        },
        {
          "output_type": "stream",
          "text": [
            "100%|██████████| 18418/18418 [06:18<00:00, 48.66it/s]\n",
            "100%|██████████| 2047/2047 [00:17<00:00, 114.31it/s]\n",
            "  0%|          | 0/18418 [00:00<?, ?it/s]"
          ],
          "name": "stderr"
        },
        {
          "output_type": "stream",
          "text": [
            "[('প্রত্যেক', 'প্ভেক'),\n",
            " ('বলছ', 'বলং'),\n",
            " ('বয়সের', 'বয়সের'),\n",
            " (',', ','),\n",
            " ('হয়', 'হয়'),\n",
            " ('পড়েন', 'দড়েন'),\n",
            " ('ভাষার', 'ভাখার'),\n",
            " ('হয়', 'হয়া'),\n",
            " ('নিজেদের', 'য়িদেদের'),\n",
            " ('মুল', 'মুন')]\n",
            "Epoch=22, Train Loss=1.028300655909156, Test Loss=1.0820261191270297 Accuracy=0.4064484611626771\n"
          ],
          "name": "stdout"
        },
        {
          "output_type": "stream",
          "text": [
            "100%|██████████| 18418/18418 [06:17<00:00, 48.75it/s]\n",
            "100%|██████████| 2047/2047 [00:18<00:00, 111.83it/s]\n",
            "  0%|          | 0/18418 [00:00<?, ?it/s]"
          ],
          "name": "stderr"
        },
        {
          "output_type": "stream",
          "text": [
            "[('প্রত্যেক', 'পভে'),\n",
            " ('বলছ', 'বলছ'),\n",
            " ('বয়সের', 'বয়সের'),\n",
            " (',', ','),\n",
            " ('হয়', 'হয়'),\n",
            " ('পড়েন', 'পড়েন'),\n",
            " ('ভাষার', 'ভাখার'),\n",
            " ('হয়', 'হয়'),\n",
            " ('নিজেদের', 'য়দেদের'),\n",
            " ('মুল', 'মুন')]\n",
            "Epoch=23, Train Loss=1.0145708909022104, Test Loss=1.0962495447584208 Accuracy=0.3873961895456766\n"
          ],
          "name": "stdout"
        },
        {
          "output_type": "stream",
          "text": [
            "100%|██████████| 18418/18418 [06:18<00:00, 48.65it/s]\n",
            "100%|██████████| 2047/2047 [00:18<00:00, 112.74it/s]\n",
            "  0%|          | 0/18418 [00:00<?, ?it/s]"
          ],
          "name": "stderr"
        },
        {
          "output_type": "stream",
          "text": [
            "[('প্রত্যেক', 'পড়ে'),\n",
            " ('বলছ', 'বলছ'),\n",
            " ('বয়সের', 'বয়সের'),\n",
            " (',', ','),\n",
            " ('হয়', 'হয়'),\n",
            " ('পড়েন', 'পড়েন'),\n",
            " ('ভাষার', 'ভাষার'),\n",
            " ('হয়', 'হয়'),\n",
            " ('নিজেদের', 'মিদেদের'),\n",
            " ('মুল', 'মুন')]\n",
            "Epoch=24, Train Loss=1.004270894743933, Test Loss=1.0996740284877393 Accuracy=0.38006839276990717\n"
          ],
          "name": "stdout"
        },
        {
          "output_type": "stream",
          "text": [
            "100%|██████████| 18418/18418 [06:18<00:00, 48.66it/s]\n",
            "100%|██████████| 2047/2047 [00:17<00:00, 115.63it/s]\n",
            "  0%|          | 0/18418 [00:00<?, ?it/s]"
          ],
          "name": "stderr"
        },
        {
          "output_type": "stream",
          "text": [
            "[('প্রত্যেক', 'পভেক'),\n",
            " ('বলছ', 'বল'),\n",
            " ('বয়সের', 'বয়সের'),\n",
            " (',', ','),\n",
            " ('হয়', 'হয়'),\n",
            " ('পড়েন', 'পড়েন'),\n",
            " ('ভাষার', 'ভাষার'),\n",
            " ('হয়', 'হয়'),\n",
            " ('নিজেদের', 'থিদেদের'),\n",
            " ('মুল', 'মুন')]\n",
            "Epoch=25, Train Loss=0.9856716930570911, Test Loss=1.1093385415996253 Accuracy=0.40107474352711286\n"
          ],
          "name": "stdout"
        },
        {
          "output_type": "stream",
          "text": [
            "100%|██████████| 18418/18418 [06:20<00:00, 48.34it/s]\n",
            "100%|██████████| 2047/2047 [00:18<00:00, 112.20it/s]\n",
            "  0%|          | 0/18418 [00:00<?, ?it/s]"
          ],
          "name": "stderr"
        },
        {
          "output_type": "stream",
          "text": [
            "[('প্রত্যেক', 'পসেক'),\n",
            " ('বলছ', 'বলই'),\n",
            " ('বয়সের', 'বয়সের'),\n",
            " (',', ','),\n",
            " ('হয়', 'হয়'),\n",
            " ('পড়েন', 'সড়েন'),\n",
            " ('ভাষার', 'ভাখার'),\n",
            " ('হয়', 'হয়া'),\n",
            " ('নিজেদের', 'য়িদেদের'),\n",
            " ('মুল', 'মুন')]\n",
            "Epoch=26, Train Loss=0.983444421364764, Test Loss=1.0932773285094761 Accuracy=0.39521250610649733\n"
          ],
          "name": "stdout"
        },
        {
          "output_type": "stream",
          "text": [
            "100%|██████████| 18418/18418 [06:18<00:00, 48.61it/s]\n",
            "100%|██████████| 2047/2047 [00:18<00:00, 113.70it/s]\n",
            "  0%|          | 0/18418 [00:00<?, ?it/s]"
          ],
          "name": "stderr"
        },
        {
          "output_type": "stream",
          "text": [
            "[('প্রত্যেক', 'প্ভেক'),\n",
            " ('বলছ', 'বলই'),\n",
            " ('বয়সের', 'বয়সের'),\n",
            " (',', ','),\n",
            " ('হয়', 'হয়'),\n",
            " ('পড়েন', 'পড়েন'),\n",
            " ('ভাষার', 'তাষার'),\n",
            " ('হয়', 'হয়'),\n",
            " ('নিজেদের', 'নিদেদের'),\n",
            " ('মুল', 'মুন')]\n",
            "Epoch=27, Train Loss=0.9629541397639394, Test Loss=1.1175920194193825 Accuracy=0.3839765510503175\n"
          ],
          "name": "stdout"
        },
        {
          "output_type": "stream",
          "text": [
            "100%|██████████| 18418/18418 [06:18<00:00, 48.71it/s]\n",
            "100%|██████████| 2047/2047 [00:17<00:00, 114.22it/s]\n",
            "  0%|          | 0/18418 [00:00<?, ?it/s]"
          ],
          "name": "stderr"
        },
        {
          "output_type": "stream",
          "text": [
            "[('প্রত্যেক', 'প্ভেক'),\n",
            " ('বলছ', 'বলহ'),\n",
            " ('বয়সের', 'বয়জের'),\n",
            " (',', ','),\n",
            " ('হয়', 'হয়'),\n",
            " ('পড়েন', 'দড়েন'),\n",
            " ('ভাষার', 'ভাখার'),\n",
            " ('হয়', 'হয়'),\n",
            " ('নিজেদের', 'নিদেদের'),\n",
            " ('মুল', 'মুন')]\n",
            "Epoch=28, Train Loss=0.9535652368432064, Test Loss=1.0260649916825 Accuracy=0.4157303370786517\n"
          ],
          "name": "stdout"
        },
        {
          "output_type": "stream",
          "text": [
            "100%|██████████| 18418/18418 [06:18<00:00, 48.60it/s]\n",
            "100%|██████████| 2047/2047 [00:18<00:00, 109.68it/s]\n"
          ],
          "name": "stderr"
        },
        {
          "output_type": "stream",
          "text": [
            "[('প্রত্যেক', 'এভেক'),\n",
            " ('বলছ', 'বলই'),\n",
            " ('বয়সের', 'বয়সের'),\n",
            " (',', ','),\n",
            " ('হয়', 'হয়'),\n",
            " ('পড়েন', 'দড়েন'),\n",
            " ('ভাষার', 'ভাষার'),\n",
            " ('হয়', 'হয়'),\n",
            " ('নিজেদের', 'য়িদেদের'),\n",
            " ('মুল', 'মুন')]\n",
            "Epoch=29, Train Loss=0.9440893969319104, Test Loss=1.0432584442257535 Accuracy=0.41914997557401074\n"
          ],
          "name": "stdout"
        }
      ]
    },
    {
      "cell_type": "code",
      "metadata": {
        "id": "9d6Oweg50f3t"
      },
      "source": [
        ""
      ],
      "execution_count": 14,
      "outputs": []
    }
  ]
}